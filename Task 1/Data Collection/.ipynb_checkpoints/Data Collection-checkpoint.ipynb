{
 "cells": [
  {
   "cell_type": "markdown",
   "id": "8d47a312-9fd2-44a8-b43e-aaaddaf670c4",
   "metadata": {},
   "source": [
    "## Data Collection\n",
    "\n",
    "In this phase we will collect the customer ratings data from the airline quality website called [Skytrax](https://www.airlinequality.com/airline-reviews/british-airways). We will collect data about airline ratings, seat ratings and lounge experience ratings from this website. "
   ]
  },
  {
   "cell_type": "code",
   "execution_count": 1,
   "id": "5f43dc5f-ffc2-4ba0-8a73-3b70e9ab0fcf",
   "metadata": {},
   "outputs": [],
   "source": [
    "# import required libraries\n",
    "\n",
    "import pandas as pd\n",
    "import numpy as np\n",
    "from bs4 import BeautifulSoup\n",
    "import requests \n",
    "import os"
   ]
  },
  {
   "cell_type": "code",
   "execution_count": 2,
   "id": "d5c2c023-7500-4e89-94f7-ddff4864d83c",
   "metadata": {},
   "outputs": [],
   "source": [
    "#create an empty list to collect all reviews\n",
    "reviews  = []\n",
    "\n",
    "#create an empty list to collect rating stars\n",
    "stars = []\n",
    "\n",
    "#create an empty list to collect date\n",
    "date = []\n",
    "\n",
    "#create an empty list to collect country the reviewer is from\n",
    "country = []"
   ]
  },
  {
   "cell_type": "code",
   "execution_count": 3,
   "id": "2894e93a-cbd4-45b5-b262-95f88994d83a",
   "metadata": {},
   "outputs": [
    {
     "name": "stdout",
     "output_type": "stream",
     "text": [
      "Error on page 34\n",
      "Error on page 35\n",
      "Error on page 35\n"
     ]
    }
   ],
   "source": [
    "for i in range(1, 36):\n",
    "    page = requests.get(f\"https://www.airlinequality.com/airline-reviews/british-airways/page/{i}/?sortby=post_date%3ADesc&pagesize=100\")\n",
    "    \n",
    "    soup = BeautifulSoup(page.content, \"html.parser\")\n",
    "    \n",
    "    for item in soup.find_all(\"div\", class_=\"text_content\"):\n",
    "        reviews.append(item.text)\n",
    "    \n",
    "    for item in soup.find_all(\"div\", class_ = \"rating-10\"):\n",
    "        try:\n",
    "            stars.append(item.span.text)\n",
    "        except:\n",
    "            print(f\"Error on page {i}\")\n",
    "            stars.append(\"None\")\n",
    "            \n",
    "    #date\n",
    "    for item in soup.find_all(\"time\"):\n",
    "        date.append(item.text)\n",
    "        \n",
    "    #country\n",
    "    for item in soup.find_all(\"h3\"):\n",
    "        country.append(item.span.next_sibling.text.strip(\" ()\"))"
   ]
  },
  {
   "cell_type": "code",
   "execution_count": 4,
   "id": "0982838a-78be-4c65-82c1-351c2075fa6d",
   "metadata": {},
   "outputs": [
    {
     "data": {
      "text/plain": [
       "3500"
      ]
     },
     "execution_count": 4,
     "metadata": {},
     "output_type": "execute_result"
    }
   ],
   "source": [
    "#check the length of total reviews extracted\n",
    "len(reviews)"
   ]
  },
  {
   "cell_type": "code",
   "execution_count": 5,
   "id": "82fb4e85-e73e-493d-a0db-b84da71b616d",
   "metadata": {},
   "outputs": [
    {
     "data": {
      "text/plain": [
       "3500"
      ]
     },
     "execution_count": 5,
     "metadata": {},
     "output_type": "execute_result"
    }
   ],
   "source": [
    "len(country)"
   ]
  },
  {
   "cell_type": "code",
   "execution_count": 8,
   "id": "df8251db-2d1d-40da-b6e6-a383d09808be",
   "metadata": {},
   "outputs": [],
   "source": [
    "#check the length \n",
    "stars = stars[:3500]"
   ]
  },
  {
   "cell_type": "code",
   "execution_count": 9,
   "id": "79213047-71dd-4907-8caf-d9a9d157f37a",
   "metadata": {},
   "outputs": [],
   "source": [
    "#create  a dataframe from these collected lists of data\n",
    "\n",
    "df = pd.DataFrame({\"reviews\":reviews,\"stars\": stars, \"date\":date, \"country\": country})"
   ]
  },
  {
   "cell_type": "code",
   "execution_count": 10,
   "id": "c6532f95-e13b-4fb9-83f3-300c35c20cf6",
   "metadata": {},
   "outputs": [
    {
     "data": {
      "text/html": [
       "<div>\n",
       "<style scoped>\n",
       "    .dataframe tbody tr th:only-of-type {\n",
       "        vertical-align: middle;\n",
       "    }\n",
       "\n",
       "    .dataframe tbody tr th {\n",
       "        vertical-align: top;\n",
       "    }\n",
       "\n",
       "    .dataframe thead th {\n",
       "        text-align: right;\n",
       "    }\n",
       "</style>\n",
       "<table border=\"1\" class=\"dataframe\">\n",
       "  <thead>\n",
       "    <tr style=\"text-align: right;\">\n",
       "      <th></th>\n",
       "      <th>reviews</th>\n",
       "      <th>stars</th>\n",
       "      <th>date</th>\n",
       "      <th>country</th>\n",
       "    </tr>\n",
       "  </thead>\n",
       "  <tbody>\n",
       "    <tr>\n",
       "      <th>0</th>\n",
       "      <td>✅ Trip Verified |   After an excellent flight ...</td>\n",
       "      <td>\\n\\t\\t\\t\\t\\t\\t\\t\\t\\t\\t\\t\\t5</td>\n",
       "      <td>1st January 2025</td>\n",
       "      <td>United Kingdom</td>\n",
       "    </tr>\n",
       "    <tr>\n",
       "      <th>1</th>\n",
       "      <td>✅ Trip Verified |   On a recent flight from Cy...</td>\n",
       "      <td>5</td>\n",
       "      <td>17th December 2024</td>\n",
       "      <td>United Kingdom</td>\n",
       "    </tr>\n",
       "    <tr>\n",
       "      <th>2</th>\n",
       "      <td>✅ Trip Verified |   Flight BA 0560 arrived in ...</td>\n",
       "      <td>1</td>\n",
       "      <td>17th December 2024</td>\n",
       "      <td>Australia</td>\n",
       "    </tr>\n",
       "    <tr>\n",
       "      <th>3</th>\n",
       "      <td>✅ Trip Verified |   This was the first time I ...</td>\n",
       "      <td>1</td>\n",
       "      <td>14th December 2024</td>\n",
       "      <td>United States</td>\n",
       "    </tr>\n",
       "    <tr>\n",
       "      <th>4</th>\n",
       "      <td>✅ Trip Verified |   Pretty good flight but sti...</td>\n",
       "      <td>2</td>\n",
       "      <td>13th December 2024</td>\n",
       "      <td>United Kingdom</td>\n",
       "    </tr>\n",
       "  </tbody>\n",
       "</table>\n",
       "</div>"
      ],
      "text/plain": [
       "                                             reviews  \\\n",
       "0  ✅ Trip Verified |   After an excellent flight ...   \n",
       "1  ✅ Trip Verified |   On a recent flight from Cy...   \n",
       "2  ✅ Trip Verified |   Flight BA 0560 arrived in ...   \n",
       "3  ✅ Trip Verified |   This was the first time I ...   \n",
       "4  ✅ Trip Verified |   Pretty good flight but sti...   \n",
       "\n",
       "                         stars                date         country  \n",
       "0  \\n\\t\\t\\t\\t\\t\\t\\t\\t\\t\\t\\t\\t5    1st January 2025  United Kingdom  \n",
       "1                            5  17th December 2024  United Kingdom  \n",
       "2                            1  17th December 2024       Australia  \n",
       "3                            1  14th December 2024   United States  \n",
       "4                            2  13th December 2024  United Kingdom  "
      ]
     },
     "execution_count": 10,
     "metadata": {},
     "output_type": "execute_result"
    }
   ],
   "source": [
    "df.head()"
   ]
  },
  {
   "cell_type": "code",
   "execution_count": 11,
   "id": "366096e8-d1f2-4033-a831-5447e52861c2",
   "metadata": {},
   "outputs": [
    {
     "data": {
      "text/plain": [
       "(3500, 4)"
      ]
     },
     "execution_count": 11,
     "metadata": {},
     "output_type": "execute_result"
    }
   ],
   "source": [
    "df.shape"
   ]
  },
  {
   "cell_type": "markdown",
   "id": "fc219e55-fdc8-4b10-a3e9-8dda764ee275",
   "metadata": {},
   "source": [
    "### Export the data into a csv format"
   ]
  },
  {
   "cell_type": "code",
   "execution_count": 12,
   "id": "b286e642-59a2-4da3-9120-e9db119ebea6",
   "metadata": {},
   "outputs": [],
   "source": [
    "cwd = os.getcwd()\n",
    "df.to_csv(cwd+ \"/BA_reviews.csv\")"
   ]
  },
  {
   "cell_type": "code",
   "execution_count": null,
   "id": "eb1d69e4-3f4c-4b21-8b04-ebccfb7d6332",
   "metadata": {},
   "outputs": [],
   "source": []
  },
  {
   "cell_type": "code",
   "execution_count": null,
   "id": "591157d3-bd0c-4305-9975-c1b09cb680d3",
   "metadata": {},
   "outputs": [],
   "source": []
  },
  {
   "cell_type": "code",
   "execution_count": null,
   "id": "360952f1-decb-4f41-abbf-54c5ac7b9e59",
   "metadata": {},
   "outputs": [],
   "source": []
  }
 ],
 "metadata": {
  "kernelspec": {
   "display_name": "Python 3 (ipykernel)",
   "language": "python",
   "name": "python3"
  },
  "language_info": {
   "codemirror_mode": {
    "name": "ipython",
    "version": 3
   },
   "file_extension": ".py",
   "mimetype": "text/x-python",
   "name": "python",
   "nbconvert_exporter": "python",
   "pygments_lexer": "ipython3",
   "version": "3.11.7"
  }
 },
 "nbformat": 4,
 "nbformat_minor": 5
}
