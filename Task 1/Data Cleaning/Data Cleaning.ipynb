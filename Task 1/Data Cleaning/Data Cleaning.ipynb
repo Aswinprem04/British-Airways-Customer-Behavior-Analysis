{
 "cells": [
  {
   "cell_type": "markdown",
   "id": "4fa73858-1f81-4f25-9a49-bb71640cb6e5",
   "metadata": {},
   "source": [
    "# Data Cleaning"
   ]
  },
  {
   "cell_type": "markdown",
   "id": "9ef4b111-432e-41ee-b8ec-c43178818ff2",
   "metadata": {},
   "source": [
    "Now since we have extracted data from the website, it is not cleaned and ready to be analyzed yet. The reviews section will need to be cleaned for punctuations, spellings and other characters."
   ]
  },
  {
   "cell_type": "code",
   "execution_count": 1,
   "id": "9b3a01a2-7588-4ed1-9817-5c3712e0122d",
   "metadata": {},
   "outputs": [],
   "source": [
    "# Import required library\n",
    "\n",
    "import pandas as pd\n",
    "import matplotlib.pyplot as plt\n",
    "import seaborn as sns\n",
    "import os\n",
    "\n",
    "import re"
   ]
  },
  {
   "cell_type": "code",
   "execution_count": 2,
   "id": "5ce1eb65-4052-4f2c-8afa-ddaa145e2df3",
   "metadata": {},
   "outputs": [],
   "source": [
    "df = pd.read_csv(\"BA_reviews.csv\", index_col=0)"
   ]
  },
  {
   "cell_type": "code",
   "execution_count": 3,
   "id": "f04ca8b1-ff76-4f5a-9c2d-cbb3be6c320b",
   "metadata": {},
   "outputs": [
    {
     "data": {
      "text/html": [
       "<div>\n",
       "<style scoped>\n",
       "    .dataframe tbody tr th:only-of-type {\n",
       "        vertical-align: middle;\n",
       "    }\n",
       "\n",
       "    .dataframe tbody tr th {\n",
       "        vertical-align: top;\n",
       "    }\n",
       "\n",
       "    .dataframe thead th {\n",
       "        text-align: right;\n",
       "    }\n",
       "</style>\n",
       "<table border=\"1\" class=\"dataframe\">\n",
       "  <thead>\n",
       "    <tr style=\"text-align: right;\">\n",
       "      <th></th>\n",
       "      <th>reviews</th>\n",
       "      <th>stars</th>\n",
       "      <th>date</th>\n",
       "      <th>country</th>\n",
       "    </tr>\n",
       "  </thead>\n",
       "  <tbody>\n",
       "    <tr>\n",
       "      <th>0</th>\n",
       "      <td>✅ Trip Verified |   After an excellent flight ...</td>\n",
       "      <td>5.0</td>\n",
       "      <td>1st January 2025</td>\n",
       "      <td>United Kingdom</td>\n",
       "    </tr>\n",
       "    <tr>\n",
       "      <th>1</th>\n",
       "      <td>✅ Trip Verified |   On a recent flight from Cy...</td>\n",
       "      <td>5.0</td>\n",
       "      <td>17th December 2024</td>\n",
       "      <td>United Kingdom</td>\n",
       "    </tr>\n",
       "    <tr>\n",
       "      <th>2</th>\n",
       "      <td>✅ Trip Verified |   Flight BA 0560 arrived in ...</td>\n",
       "      <td>1.0</td>\n",
       "      <td>17th December 2024</td>\n",
       "      <td>Australia</td>\n",
       "    </tr>\n",
       "    <tr>\n",
       "      <th>3</th>\n",
       "      <td>✅ Trip Verified |   This was the first time I ...</td>\n",
       "      <td>1.0</td>\n",
       "      <td>14th December 2024</td>\n",
       "      <td>United States</td>\n",
       "    </tr>\n",
       "    <tr>\n",
       "      <th>4</th>\n",
       "      <td>✅ Trip Verified |   Pretty good flight but sti...</td>\n",
       "      <td>2.0</td>\n",
       "      <td>13th December 2024</td>\n",
       "      <td>United Kingdom</td>\n",
       "    </tr>\n",
       "  </tbody>\n",
       "</table>\n",
       "</div>"
      ],
      "text/plain": [
       "                                             reviews  stars  \\\n",
       "0  ✅ Trip Verified |   After an excellent flight ...    5.0   \n",
       "1  ✅ Trip Verified |   On a recent flight from Cy...    5.0   \n",
       "2  ✅ Trip Verified |   Flight BA 0560 arrived in ...    1.0   \n",
       "3  ✅ Trip Verified |   This was the first time I ...    1.0   \n",
       "4  ✅ Trip Verified |   Pretty good flight but sti...    2.0   \n",
       "\n",
       "                 date         country  \n",
       "0    1st January 2025  United Kingdom  \n",
       "1  17th December 2024  United Kingdom  \n",
       "2  17th December 2024       Australia  \n",
       "3  14th December 2024   United States  \n",
       "4  13th December 2024  United Kingdom  "
      ]
     },
     "execution_count": 3,
     "metadata": {},
     "output_type": "execute_result"
    }
   ],
   "source": [
    "df.head()"
   ]
  },
  {
   "cell_type": "markdown",
   "id": "c03f1afc-2bb4-4883-a487-2ce5fc67bd49",
   "metadata": {},
   "source": [
    "We will also create a column which mentions if the user is verified or not."
   ]
  },
  {
   "cell_type": "code",
   "execution_count": 4,
   "id": "17bd8ce5-887d-4e8e-9625-a7d592b03877",
   "metadata": {},
   "outputs": [],
   "source": [
    "df['verified'] = df.reviews.str.contains(\"Trip Verified\")"
   ]
  },
  {
   "cell_type": "code",
   "execution_count": 5,
   "id": "05e10485-aa00-4246-aee9-5cdd45bbaa9a",
   "metadata": {},
   "outputs": [
    {
     "data": {
      "text/plain": [
       "0        True\n",
       "1        True\n",
       "2        True\n",
       "3        True\n",
       "4        True\n",
       "        ...  \n",
       "3495    False\n",
       "3496    False\n",
       "3497    False\n",
       "3498    False\n",
       "3499    False\n",
       "Name: verified, Length: 3500, dtype: bool"
      ]
     },
     "execution_count": 5,
     "metadata": {},
     "output_type": "execute_result"
    }
   ],
   "source": [
    "df['verified']"
   ]
  },
  {
   "cell_type": "markdown",
   "id": "e7ddb40b-a026-4997-8342-388a4b944d6e",
   "metadata": {},
   "source": [
    "## Cleaning Reviews"
   ]
  },
  {
   "cell_type": "markdown",
   "id": "4ff890aa-05e3-405a-bd3b-8a4291e93e94",
   "metadata": {},
   "source": [
    "We will extract the column of reviews into a separate dataframe and clean it for semantic analysis"
   ]
  },
  {
   "cell_type": "code",
   "execution_count": 6,
   "id": "a2b7ec3d-293c-4b34-801f-f8d2766db27f",
   "metadata": {},
   "outputs": [],
   "source": [
    "#for lemmatization of words we will use nltk library\n",
    "\n",
    "from nltk.stem import WordNetLemmatizer\n",
    "from nltk.corpus import stopwords\n",
    "lemma = WordNetLemmatizer()\n",
    "\n",
    "\n",
    "reviews_data = df.reviews.str.strip(\"✅ Trip Verified |\")\n",
    "\n",
    "#create an empty list to collect cleaned data corpus\n",
    "corpus =[]\n",
    "\n",
    "#loop through each review, remove punctuations, small case it, join it and add it to corpus\n",
    "for rev in reviews_data:\n",
    "    rev = re.sub('[^a-zA-Z]',' ', rev)\n",
    "    rev = rev.lower()\n",
    "    rev = rev.split()\n",
    "    rev = [lemma.lemmatize(word) for word in rev if word not in set(stopwords.words(\"english\"))]\n",
    "    rev = \" \".join(rev)\n",
    "    corpus.append(rev)"
   ]
  },
  {
   "cell_type": "code",
   "execution_count": 7,
   "id": "8ca452f0-2561-40ca-a395-63e0c073f6d2",
   "metadata": {},
   "outputs": [],
   "source": [
    "# add the corpus to the original dataframe\n",
    "\n",
    "df['corpus'] = corpus"
   ]
  },
  {
   "cell_type": "code",
   "execution_count": 8,
   "id": "f4f28278-5cd1-45d5-80b8-ab6cce01a8b1",
   "metadata": {},
   "outputs": [
    {
     "data": {
      "text/html": [
       "<div>\n",
       "<style scoped>\n",
       "    .dataframe tbody tr th:only-of-type {\n",
       "        vertical-align: middle;\n",
       "    }\n",
       "\n",
       "    .dataframe tbody tr th {\n",
       "        vertical-align: top;\n",
       "    }\n",
       "\n",
       "    .dataframe thead th {\n",
       "        text-align: right;\n",
       "    }\n",
       "</style>\n",
       "<table border=\"1\" class=\"dataframe\">\n",
       "  <thead>\n",
       "    <tr style=\"text-align: right;\">\n",
       "      <th></th>\n",
       "      <th>reviews</th>\n",
       "      <th>stars</th>\n",
       "      <th>date</th>\n",
       "      <th>country</th>\n",
       "      <th>verified</th>\n",
       "      <th>corpus</th>\n",
       "    </tr>\n",
       "  </thead>\n",
       "  <tbody>\n",
       "    <tr>\n",
       "      <th>0</th>\n",
       "      <td>✅ Trip Verified |   After an excellent flight ...</td>\n",
       "      <td>5.0</td>\n",
       "      <td>1st January 2025</td>\n",
       "      <td>United Kingdom</td>\n",
       "      <td>True</td>\n",
       "      <td>excellent flight cpt lhr return good ba moved ...</td>\n",
       "    </tr>\n",
       "    <tr>\n",
       "      <th>1</th>\n",
       "      <td>✅ Trip Verified |   On a recent flight from Cy...</td>\n",
       "      <td>5.0</td>\n",
       "      <td>17th December 2024</td>\n",
       "      <td>United Kingdom</td>\n",
       "      <td>True</td>\n",
       "      <td>recent flight cyprus ba second cabin door clos...</td>\n",
       "    </tr>\n",
       "    <tr>\n",
       "      <th>2</th>\n",
       "      <td>✅ Trip Verified |   Flight BA 0560 arrived in ...</td>\n",
       "      <td>1.0</td>\n",
       "      <td>17th December 2024</td>\n",
       "      <td>Australia</td>\n",
       "      <td>True</td>\n",
       "      <td>flight ba arrived rome december passenger rece...</td>\n",
       "    </tr>\n",
       "    <tr>\n",
       "      <th>3</th>\n",
       "      <td>✅ Trip Verified |   This was the first time I ...</td>\n",
       "      <td>1.0</td>\n",
       "      <td>14th December 2024</td>\n",
       "      <td>United States</td>\n",
       "      <td>True</td>\n",
       "      <td>first time flew british airway huge disappoint...</td>\n",
       "    </tr>\n",
       "    <tr>\n",
       "      <th>4</th>\n",
       "      <td>✅ Trip Verified |   Pretty good flight but sti...</td>\n",
       "      <td>2.0</td>\n",
       "      <td>13th December 2024</td>\n",
       "      <td>United Kingdom</td>\n",
       "      <td>True</td>\n",
       "      <td>pretty good flight still small thing improved ...</td>\n",
       "    </tr>\n",
       "  </tbody>\n",
       "</table>\n",
       "</div>"
      ],
      "text/plain": [
       "                                             reviews  stars  \\\n",
       "0  ✅ Trip Verified |   After an excellent flight ...    5.0   \n",
       "1  ✅ Trip Verified |   On a recent flight from Cy...    5.0   \n",
       "2  ✅ Trip Verified |   Flight BA 0560 arrived in ...    1.0   \n",
       "3  ✅ Trip Verified |   This was the first time I ...    1.0   \n",
       "4  ✅ Trip Verified |   Pretty good flight but sti...    2.0   \n",
       "\n",
       "                 date         country  verified  \\\n",
       "0    1st January 2025  United Kingdom      True   \n",
       "1  17th December 2024  United Kingdom      True   \n",
       "2  17th December 2024       Australia      True   \n",
       "3  14th December 2024   United States      True   \n",
       "4  13th December 2024  United Kingdom      True   \n",
       "\n",
       "                                              corpus  \n",
       "0  excellent flight cpt lhr return good ba moved ...  \n",
       "1  recent flight cyprus ba second cabin door clos...  \n",
       "2  flight ba arrived rome december passenger rece...  \n",
       "3  first time flew british airway huge disappoint...  \n",
       "4  pretty good flight still small thing improved ...  "
      ]
     },
     "execution_count": 8,
     "metadata": {},
     "output_type": "execute_result"
    }
   ],
   "source": [
    "df.head()"
   ]
  },
  {
   "cell_type": "markdown",
   "id": "0b906eb2-b02a-42f2-b73f-9213be5f1626",
   "metadata": {},
   "source": [
    "## Cleaning/Fromat date"
   ]
  },
  {
   "cell_type": "code",
   "execution_count": 9,
   "id": "cb18f019-6f06-4a6e-8e36-8c478915f807",
   "metadata": {},
   "outputs": [
    {
     "data": {
      "text/plain": [
       "reviews      object\n",
       "stars       float64\n",
       "date         object\n",
       "country      object\n",
       "verified       bool\n",
       "corpus       object\n",
       "dtype: object"
      ]
     },
     "execution_count": 9,
     "metadata": {},
     "output_type": "execute_result"
    }
   ],
   "source": [
    "df.dtypes"
   ]
  },
  {
   "cell_type": "code",
   "execution_count": 10,
   "id": "4a3d2077-bf16-4c3b-a4b5-6babd64b278d",
   "metadata": {},
   "outputs": [],
   "source": [
    "# convert the date to datetime format\n",
    "\n",
    "# Remove ordinal suffixes and convert to datetime\n",
    "df['date'] = df['date'].str.replace(r'(\\d+)(st|nd|rd|th)', r'\\1', regex=True)\n",
    "df['date'] = pd.to_datetime(df['date'])\n"
   ]
  },
  {
   "cell_type": "code",
   "execution_count": 11,
   "id": "e1db0111-485b-40df-a921-4a781e478882",
   "metadata": {},
   "outputs": [
    {
     "data": {
      "text/plain": [
       "0   2025-01-01\n",
       "1   2024-12-17\n",
       "2   2024-12-17\n",
       "3   2024-12-14\n",
       "4   2024-12-13\n",
       "Name: date, dtype: datetime64[ns]"
      ]
     },
     "execution_count": 11,
     "metadata": {},
     "output_type": "execute_result"
    }
   ],
   "source": [
    "df.date.head()"
   ]
  },
  {
   "cell_type": "markdown",
   "id": "ac626a76-4fc3-4f63-8e2d-a7cce42ab94e",
   "metadata": {},
   "source": [
    "## Check for null values"
   ]
  },
  {
   "cell_type": "code",
   "execution_count": 13,
   "id": "b63eda59-701a-487a-bc0c-94e9d78e0db8",
   "metadata": {},
   "outputs": [
    {
     "name": "stdout",
     "output_type": "stream",
     "text": [
      "<class 'pandas.core.frame.DataFrame'>\n",
      "Index: 3500 entries, 0 to 3499\n",
      "Data columns (total 6 columns):\n",
      " #   Column    Non-Null Count  Dtype         \n",
      "---  ------    --------------  -----         \n",
      " 0   reviews   3500 non-null   object        \n",
      " 1   stars     3498 non-null   float64       \n",
      " 2   date      3500 non-null   datetime64[ns]\n",
      " 3   country   3499 non-null   object        \n",
      " 4   verified  3500 non-null   bool          \n",
      " 5   corpus    3500 non-null   object        \n",
      "dtypes: bool(1), datetime64[ns](1), float64(1), object(3)\n",
      "memory usage: 167.5+ KB\n"
     ]
    }
   ],
   "source": [
    "df.info()"
   ]
  },
  {
   "cell_type": "code",
   "execution_count": 12,
   "id": "8a4b31af-36ef-4094-905c-9efb7ce193d0",
   "metadata": {},
   "outputs": [
    {
     "data": {
      "text/plain": [
       "reviews     0\n",
       "stars       2\n",
       "date        0\n",
       "country     1\n",
       "verified    0\n",
       "corpus      0\n",
       "dtype: int64"
      ]
     },
     "execution_count": 12,
     "metadata": {},
     "output_type": "execute_result"
    }
   ],
   "source": [
    "df.isnull().sum()"
   ]
  },
  {
   "cell_type": "markdown",
   "id": "4d3c7a7d-ff0b-431c-90ba-c5b6f54cdafc",
   "metadata": {},
   "source": [
    "Drop rows with null values"
   ]
  },
  {
   "cell_type": "code",
   "execution_count": 14,
   "id": "e3c45f01-6b1e-4039-8af9-632e07a079bd",
   "metadata": {},
   "outputs": [],
   "source": [
    "df.dropna(inplace=True)"
   ]
  },
  {
   "cell_type": "code",
   "execution_count": 15,
   "id": "be027547-34e5-457d-92d5-6c5b912a64a6",
   "metadata": {},
   "outputs": [
    {
     "name": "stdout",
     "output_type": "stream",
     "text": [
      "<class 'pandas.core.frame.DataFrame'>\n",
      "Index: 3497 entries, 0 to 3499\n",
      "Data columns (total 6 columns):\n",
      " #   Column    Non-Null Count  Dtype         \n",
      "---  ------    --------------  -----         \n",
      " 0   reviews   3497 non-null   object        \n",
      " 1   stars     3497 non-null   float64       \n",
      " 2   date      3497 non-null   datetime64[ns]\n",
      " 3   country   3497 non-null   object        \n",
      " 4   verified  3497 non-null   bool          \n",
      " 5   corpus    3497 non-null   object        \n",
      "dtypes: bool(1), datetime64[ns](1), float64(1), object(3)\n",
      "memory usage: 167.3+ KB\n"
     ]
    }
   ],
   "source": [
    "df.info()"
   ]
  },
  {
   "cell_type": "code",
   "execution_count": 16,
   "id": "f3086403-4633-4a70-8a52-6fca76337ed1",
   "metadata": {},
   "outputs": [
    {
     "data": {
      "text/html": [
       "<div>\n",
       "<style scoped>\n",
       "    .dataframe tbody tr th:only-of-type {\n",
       "        vertical-align: middle;\n",
       "    }\n",
       "\n",
       "    .dataframe tbody tr th {\n",
       "        vertical-align: top;\n",
       "    }\n",
       "\n",
       "    .dataframe thead th {\n",
       "        text-align: right;\n",
       "    }\n",
       "</style>\n",
       "<table border=\"1\" class=\"dataframe\">\n",
       "  <thead>\n",
       "    <tr style=\"text-align: right;\">\n",
       "      <th></th>\n",
       "      <th>reviews</th>\n",
       "      <th>stars</th>\n",
       "      <th>date</th>\n",
       "      <th>country</th>\n",
       "      <th>verified</th>\n",
       "      <th>corpus</th>\n",
       "    </tr>\n",
       "  </thead>\n",
       "  <tbody>\n",
       "    <tr>\n",
       "      <th>0</th>\n",
       "      <td>✅ Trip Verified |   After an excellent flight ...</td>\n",
       "      <td>5.0</td>\n",
       "      <td>2025-01-01</td>\n",
       "      <td>United Kingdom</td>\n",
       "      <td>True</td>\n",
       "      <td>excellent flight cpt lhr return good ba moved ...</td>\n",
       "    </tr>\n",
       "    <tr>\n",
       "      <th>1</th>\n",
       "      <td>✅ Trip Verified |   On a recent flight from Cy...</td>\n",
       "      <td>5.0</td>\n",
       "      <td>2024-12-17</td>\n",
       "      <td>United Kingdom</td>\n",
       "      <td>True</td>\n",
       "      <td>recent flight cyprus ba second cabin door clos...</td>\n",
       "    </tr>\n",
       "    <tr>\n",
       "      <th>2</th>\n",
       "      <td>✅ Trip Verified |   Flight BA 0560 arrived in ...</td>\n",
       "      <td>1.0</td>\n",
       "      <td>2024-12-17</td>\n",
       "      <td>Australia</td>\n",
       "      <td>True</td>\n",
       "      <td>flight ba arrived rome december passenger rece...</td>\n",
       "    </tr>\n",
       "    <tr>\n",
       "      <th>3</th>\n",
       "      <td>✅ Trip Verified |   This was the first time I ...</td>\n",
       "      <td>1.0</td>\n",
       "      <td>2024-12-14</td>\n",
       "      <td>United States</td>\n",
       "      <td>True</td>\n",
       "      <td>first time flew british airway huge disappoint...</td>\n",
       "    </tr>\n",
       "    <tr>\n",
       "      <th>4</th>\n",
       "      <td>✅ Trip Verified |   Pretty good flight but sti...</td>\n",
       "      <td>2.0</td>\n",
       "      <td>2024-12-13</td>\n",
       "      <td>United Kingdom</td>\n",
       "      <td>True</td>\n",
       "      <td>pretty good flight still small thing improved ...</td>\n",
       "    </tr>\n",
       "    <tr>\n",
       "      <th>...</th>\n",
       "      <td>...</td>\n",
       "      <td>...</td>\n",
       "      <td>...</td>\n",
       "      <td>...</td>\n",
       "      <td>...</td>\n",
       "      <td>...</td>\n",
       "    </tr>\n",
       "    <tr>\n",
       "      <th>3492</th>\n",
       "      <td>Dallas Fort Worth Texas to London Heathrow BA ...</td>\n",
       "      <td>8.0</td>\n",
       "      <td>2014-11-20</td>\n",
       "      <td>United Kingdom</td>\n",
       "      <td>False</td>\n",
       "      <td>dallas fort worth texas london heathrow ba th ...</td>\n",
       "    </tr>\n",
       "    <tr>\n",
       "      <th>3493</th>\n",
       "      <td>LHR-VIE in Club Europe on A320. Plane was an e...</td>\n",
       "      <td>4.0</td>\n",
       "      <td>2014-11-20</td>\n",
       "      <td>Australia</td>\n",
       "      <td>False</td>\n",
       "      <td>lhr vie club europe plane ex bmi aircraft stil...</td>\n",
       "    </tr>\n",
       "    <tr>\n",
       "      <th>3494</th>\n",
       "      <td>AMS-LHR-JNBJNB-LHR-AMS all flights on time ver...</td>\n",
       "      <td>3.0</td>\n",
       "      <td>2014-11-20</td>\n",
       "      <td>Belgium</td>\n",
       "      <td>False</td>\n",
       "      <td>am lhr jnbjnb lhr am flight time clean new air...</td>\n",
       "    </tr>\n",
       "    <tr>\n",
       "      <th>3495</th>\n",
       "      <td>Travelled to and from India recently in Club W...</td>\n",
       "      <td>5.0</td>\n",
       "      <td>2014-11-20</td>\n",
       "      <td>Ireland</td>\n",
       "      <td>False</td>\n",
       "      <td>avelled india recently club world outbound hyd...</td>\n",
       "    </tr>\n",
       "    <tr>\n",
       "      <th>3496</th>\n",
       "      <td>I had a very poor experience with BA from Jo'b...</td>\n",
       "      <td>8.0</td>\n",
       "      <td>2014-11-17</td>\n",
       "      <td>United Kingdom</td>\n",
       "      <td>False</td>\n",
       "      <td>poor experience ba jo burg london cancelled ke...</td>\n",
       "    </tr>\n",
       "  </tbody>\n",
       "</table>\n",
       "<p>3497 rows × 6 columns</p>\n",
       "</div>"
      ],
      "text/plain": [
       "                                                reviews  stars       date  \\\n",
       "0     ✅ Trip Verified |   After an excellent flight ...    5.0 2025-01-01   \n",
       "1     ✅ Trip Verified |   On a recent flight from Cy...    5.0 2024-12-17   \n",
       "2     ✅ Trip Verified |   Flight BA 0560 arrived in ...    1.0 2024-12-17   \n",
       "3     ✅ Trip Verified |   This was the first time I ...    1.0 2024-12-14   \n",
       "4     ✅ Trip Verified |   Pretty good flight but sti...    2.0 2024-12-13   \n",
       "...                                                 ...    ...        ...   \n",
       "3492  Dallas Fort Worth Texas to London Heathrow BA ...    8.0 2014-11-20   \n",
       "3493  LHR-VIE in Club Europe on A320. Plane was an e...    4.0 2014-11-20   \n",
       "3494  AMS-LHR-JNBJNB-LHR-AMS all flights on time ver...    3.0 2014-11-20   \n",
       "3495  Travelled to and from India recently in Club W...    5.0 2014-11-20   \n",
       "3496  I had a very poor experience with BA from Jo'b...    8.0 2014-11-17   \n",
       "\n",
       "             country  verified  \\\n",
       "0     United Kingdom      True   \n",
       "1     United Kingdom      True   \n",
       "2          Australia      True   \n",
       "3      United States      True   \n",
       "4     United Kingdom      True   \n",
       "...              ...       ...   \n",
       "3492  United Kingdom     False   \n",
       "3493       Australia     False   \n",
       "3494         Belgium     False   \n",
       "3495         Ireland     False   \n",
       "3496  United Kingdom     False   \n",
       "\n",
       "                                                 corpus  \n",
       "0     excellent flight cpt lhr return good ba moved ...  \n",
       "1     recent flight cyprus ba second cabin door clos...  \n",
       "2     flight ba arrived rome december passenger rece...  \n",
       "3     first time flew british airway huge disappoint...  \n",
       "4     pretty good flight still small thing improved ...  \n",
       "...                                                 ...  \n",
       "3492  dallas fort worth texas london heathrow ba th ...  \n",
       "3493  lhr vie club europe plane ex bmi aircraft stil...  \n",
       "3494  am lhr jnbjnb lhr am flight time clean new air...  \n",
       "3495  avelled india recently club world outbound hyd...  \n",
       "3496  poor experience ba jo burg london cancelled ke...  \n",
       "\n",
       "[3497 rows x 6 columns]"
      ]
     },
     "execution_count": 16,
     "metadata": {},
     "output_type": "execute_result"
    }
   ],
   "source": [
    "#resetting the index\n",
    "df.reset_index(drop=True)"
   ]
  },
  {
   "cell_type": "markdown",
   "id": "ab61aab1-dc68-42ee-97b2-f4a95b57e2d1",
   "metadata": {},
   "source": [
    "Now data is cleaned and ready for data visualization and data analysis."
   ]
  },
  {
   "cell_type": "code",
   "execution_count": 17,
   "id": "c40fb66b-01a9-4700-99dc-cd51ebb7b2f7",
   "metadata": {},
   "outputs": [],
   "source": [
    "# export the cleaned data\n",
    "\n",
    "df.to_csv(\"cleaned-BA-reviews.csv\")"
   ]
  },
  {
   "cell_type": "code",
   "execution_count": null,
   "id": "c961eb71-08a4-4b8a-aa93-04c46cfb123d",
   "metadata": {},
   "outputs": [],
   "source": []
  }
 ],
 "metadata": {
  "kernelspec": {
   "display_name": "Python 3 (ipykernel)",
   "language": "python",
   "name": "python3"
  },
  "language_info": {
   "codemirror_mode": {
    "name": "ipython",
    "version": 3
   },
   "file_extension": ".py",
   "mimetype": "text/x-python",
   "name": "python",
   "nbconvert_exporter": "python",
   "pygments_lexer": "ipython3",
   "version": "3.11.7"
  }
 },
 "nbformat": 4,
 "nbformat_minor": 5
}
